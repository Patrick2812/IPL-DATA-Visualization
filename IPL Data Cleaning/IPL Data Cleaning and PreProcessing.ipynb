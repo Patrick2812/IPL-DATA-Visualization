{
 "cells": [
  {
   "cell_type": "code",
   "execution_count": null,
   "id": "53a4bd59",
   "metadata": {},
   "outputs": [],
   "source": [
    "import pandas as pd\n",
    "import numpy as np"
   ]
  },
  {
   "cell_type": "code",
   "execution_count": null,
   "id": "d2a8164d",
   "metadata": {},
   "outputs": [],
   "source": [
    "df = pd.read_csv(\"IPL2009 Stats.csv\")\n",
    "raw_data = df.copy()"
   ]
  },
  {
   "cell_type": "code",
   "execution_count": null,
   "id": "49a5f3e3",
   "metadata": {},
   "outputs": [],
   "source": [
    "df"
   ]
  },
  {
   "cell_type": "code",
   "execution_count": null,
   "id": "8670d563",
   "metadata": {},
   "outputs": [],
   "source": [
    "df.info()"
   ]
  },
  {
   "cell_type": "code",
   "execution_count": null,
   "id": "aac9cd90",
   "metadata": {},
   "outputs": [],
   "source": [
    "for i in range(len(df[\"Season From 2008 to 2021\"])):\n",
    "    df[\"Season From 2008 to 2021\"][i] = df[\"Season From 2008 to 2021\"][i][6:]\n",
    "df[\"Season From 2008 to 2021\"].astype(int)"
   ]
  },
  {
   "cell_type": "code",
   "execution_count": null,
   "id": "8c4b4e36",
   "metadata": {},
   "outputs": [],
   "source": [
    "df[\"Winning Team Score\"].dtype"
   ]
  },
  {
   "cell_type": "code",
   "execution_count": null,
   "id": "c6116acf",
   "metadata": {},
   "outputs": [],
   "source": [
    "df[\"Losing Team Score\"].dtype"
   ]
  },
  {
   "cell_type": "code",
   "execution_count": null,
   "id": "c3426cd4",
   "metadata": {},
   "outputs": [],
   "source": [
    "df[\"Winning Team Score\"].isnull().sum()"
   ]
  },
  {
   "cell_type": "code",
   "execution_count": null,
   "id": "04804aeb",
   "metadata": {},
   "outputs": [],
   "source": [
    "df[\"Losing Team Score\"].isnull().sum()"
   ]
  },
  {
   "cell_type": "code",
   "execution_count": null,
   "id": "bce259d3",
   "metadata": {},
   "outputs": [],
   "source": [
    "df[\"Overs played by winning Team\"].dtype"
   ]
  },
  {
   "cell_type": "code",
   "execution_count": null,
   "id": "733adcf4",
   "metadata": {},
   "outputs": [],
   "source": [
    "df[\"Overs played by winning Team\"].isnull().sum()"
   ]
  },
  {
   "cell_type": "code",
   "execution_count": null,
   "id": "41824928",
   "metadata": {},
   "outputs": [],
   "source": [
    "df[\"Overs played by winning Team\"].mode()[0]"
   ]
  },
  {
   "cell_type": "code",
   "execution_count": null,
   "id": "08d63ca1",
   "metadata": {},
   "outputs": [],
   "source": [
    "df['Overs played by winning Team'] = df['Overs played by winning Team'].fillna(df[\"Overs played by winning Team\"].mode()[0])"
   ]
  },
  {
   "cell_type": "code",
   "execution_count": null,
   "id": "67ef5ffb",
   "metadata": {},
   "outputs": [],
   "source": [
    "df[\"Overs played by winning Team\"].isnull().sum()"
   ]
  },
  {
   "cell_type": "code",
   "execution_count": null,
   "id": "46761eaf",
   "metadata": {},
   "outputs": [],
   "source": [
    "df[\"Overs played by losing Team\"].isnull().sum()"
   ]
  },
  {
   "cell_type": "code",
   "execution_count": null,
   "id": "da6997f7",
   "metadata": {},
   "outputs": [],
   "source": [
    "df[\"Wickets taken by losing Team\"].dtype"
   ]
  },
  {
   "cell_type": "code",
   "execution_count": null,
   "id": "354b56a6",
   "metadata": {},
   "outputs": [],
   "source": [
    "df[\"Wickets taken by losing Team\"].isnull().sum()"
   ]
  },
  {
   "cell_type": "code",
   "execution_count": null,
   "id": "cd08b654",
   "metadata": {},
   "outputs": [],
   "source": [
    "df[\"Wickets taken by Winning Team\"].dtype"
   ]
  },
  {
   "cell_type": "code",
   "execution_count": null,
   "id": "cc199174",
   "metadata": {},
   "outputs": [],
   "source": [
    "df[\"Wickets taken by Winning Team\"].isnull().sum()"
   ]
  },
  {
   "cell_type": "code",
   "execution_count": null,
   "id": "00d59738",
   "metadata": {},
   "outputs": [],
   "source": [
    "for i in range(len(df[\"Match Venue\"])):\n",
    "    df[\"Match Venue\"][i] = \" \".join(df[\"Match Venue\"][i].split())\n",
    "    df[\"Match Venue\"][i] = df[\"Match Venue\"][i].replace(\"\\\\n\",\"\")\n",
    "    df[\"Match Venue\"][i] = df[\"Match Venue\"][i].replace(\"''\",\"\")"
   ]
  },
  {
   "cell_type": "code",
   "execution_count": null,
   "id": "50ae47ad",
   "metadata": {},
   "outputs": [],
   "source": [
    "for i in range(len(df[\"Overs played by winning Team\"])):\n",
    "    df[\"Overs played by winning Team\"][i] = \" \".join(df[\"Overs played by winning Team\"][i].split())\n",
    "    df[\"Overs played by winning Team\"][i] = df[\"Overs played by winning Team\"][i].replace(\"\\n\",\"\")\n",
    "for i in range(len(df[\"Overs played by losing Team\"])):\n",
    "    df[\"Overs played by losing Team\"][i] = \" \".join(df[\"Overs played by losing Team\"][i].split())\n",
    "    df[\"Overs played by losing Team\"][i] = df[\"Overs played by losing Team\"][i].replace(\"\\n\",\"\")\n",
    "df"
   ]
  },
  {
   "cell_type": "code",
   "execution_count": null,
   "id": "2f208283",
   "metadata": {},
   "outputs": [],
   "source": [
    "df.to_csv(\"IPL2009 Data Cleaned.csv\")"
   ]
  }
 ],
 "metadata": {
  "kernelspec": {
   "display_name": "Python 3 (ipykernel)",
   "language": "python",
   "name": "python3"
  },
  "language_info": {
   "codemirror_mode": {
    "name": "ipython",
    "version": 3
   },
   "file_extension": ".py",
   "mimetype": "text/x-python",
   "name": "python",
   "nbconvert_exporter": "python",
   "pygments_lexer": "ipython3",
   "version": "3.9.7"
  }
 },
 "nbformat": 4,
 "nbformat_minor": 5
}
